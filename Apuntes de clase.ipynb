{
 "cells": [
  {
   "cell_type": "markdown",
   "metadata": {},
   "source": [
    "### Enlaces\n",
    "\n",
    "Markdown Jupyter: https://dataplatform.cloud.ibm.com/docs/content/wsj/analyze-data/markd-jupyter.html?context=wx&locale=es  \n",
    "Paralelización en C: https://curc.readthedocs.io/en/latest/programming/OpenMP-C.html  \n",
    "Optimización en pyhton (numba): https://numba.readthedocs.io/en/stable/index.html  \n",
    "Guía rápida de depuración con VSCode https://code.visualstudio.com/docs/editor/debugging  \n",
    "Repositorios GitHub de la asignatura: https://github.com/jbermejovega/fisicacomputacional/blob/main/.gitignore  \n",
    "https://github.com/jbermejovega/UIMPIntroToQuantumAI  \n",
    "https://github.com/jbermejovega/HPC-and-optimization-seminar  \n",
    "https://github.com/prodelas/PyConES2022  \n",
    "Manual para configurar las claves SSH en Github: https://docs.github.com/es/authentication/connecting-to-github-with-ssh  \n",
    "Manual para clonar un repositorio en Github (usar la opción SSH, hay que configurar las claves primero):  \n",
    "https://docs.github.com/es/repositories/creating-and-managing-repositories/cloning-a-repository  \n"
   ]
  },
  {
   "cell_type": "markdown",
   "metadata": {},
   "source": [
    "### Comandos de Linux\n",
    "\n",
    "| Comando        | Descripción                                                                 |\n",
    "|----------------|-----------------------------------------------------------------------------|\n",
    "| `clear`        | Limpia la pantalla de la terminal.                                         |\n",
    "| `history`      | Muestra el historial de comandos ejecutados.                               |\n",
    "| `man history`  | Muestra la página del manual para el comando `history`.                      |\n",
    "| `q`            | Sale de la página del manual u otras utilidades.                            |\n",
    "| `!487`         | Ejecuta el comando número 487 del historial.                               |\n",
    "| `ls`           | Lista los archivos y directorios en el directorio actual.                   |\n",
    "| `cd`           | Cambia el directorio actual.                                               |\n",
    "| `tab`          | Autocompleta nombres de archivos, directorios o comandos.                    |\n",
    "| `.`            | Representa el directorio actual (ej: `pwd` muestra la ruta actual).          |\n",
    "| `..`           | Representa el directorio padre.                                             |\n",
    "| `whoami`       | Muestra el nombre de usuario actual.                                       |\n",
    "| `ls -a`        | Muestra todos los archivos, incluyendo los ocultos (comienzan con `.`).    |\n",
    "| `ls -all`      | Muestra todos los archivos con información detallada, incluyendo los ocultos. |\n",
    "| `ls -d`        | Muestra solo los directorios.                                              |\n",
    "| `ls -l`        | Muestra la información en formato de lista larga.                            |\n",
    "| `ls -lS`       | Muestra la información en formato de lista larga, ordenados por tamaño.     |\n",
    "| `barra vertical`           | Pipe o tubería: la salida de un comando se convierte en la entrada del siguiente. |\n",
    "| `tmux`         | Multiplexor de terminales, permite tener varias sesiones en una sola ventana. |\n",
    "| `mkdir nombre` | Crea un nuevo directorio con el nombre especificado.                         |\n",
    "| `nano`         | Abre un editor de texto sencillo.                                           |\n",
    "| `control O`    | Guarda los cambios en `nano`.                                               |\n",
    "| `control X`    | Sale de `nano`.                                                             |\n",
    "| `limon.sh`     | Ejemplo de un programa o script en Bash.                                  |\n",
    "| `nano limon.sh`| Abre el archivo `limon.sh` con el editor `nano` para editarlo.             |\n",
    "| `bash limon.sh`| Ejecuta el script `limon.sh` utilizando el intérprete Bash.                  |\n",
    "| `rm`           | **¡PELIGROSO!** Elimina archivos.                                          |\n",
    "| `rm archivo`   | Borra el archivo especificado.                                            |\n",
    "| `rmdir directorio`| Borra un directorio vacío.                                               |\n",
    "| `/opt/`        | Ubicación donde Anaconda suele instalarse en Proteus.                       |\n",
    "| `cp origen destino`| Copia un archivo o directorio del origen al destino.                      |\n",
    "| `cp -r origen_dir destino_dir`| Copia un directorio y su contenido de forma recursiva.          |\n",
    "| `mv origen destino`| Mueve un archivo o directorio del origen al destino (o lo renombra).    |\n",
    "| `cat limon.sh` | Muestra el contenido del archivo `limon.sh` en la terminal.                  |\n",
    "| `Control C`    | Interrumpe o finaliza el programa en ejecución.                            |\n",
    "| `more`         | Muestra la información de un archivo o la salida de un comando página por página. |\n",
    "| `grep limon`   | Busca líneas que contengan la cadena \"limon\" en la entrada.                 |\n",
    "| `path`         | Variable de entorno que define los directorios donde el sistema busca ejecutables. |\n",
    "| `PID`          | Process IDentifier: número único que identifica cada proceso en ejecución.    |\n",
    "| `ps`           | Muestra una instantánea de los procesos en ejecución.                        |\n",
    "| `ps -a`        | Muestra todos los procesos asociados a la terminal actual.                  |\n",
    "| `ps -e` / `ps -A`| Muestra todos los procesos en ejecución en el sistema.                      |\n",
    "| `Control Z`    | Suspende el proceso en primer plano y lo envía al fondo (background).      |\n",
    "| `fg programa`  | Devuelve el proceso suspendido al primer plano (foreground).               |\n",
    "| `tmux new`     | Crea una nueva sesión de `tmux` con una ventana.                           |\n",
    "| `tmux new -s T1`| Crea una nueva sesión de `tmux` con el nombre \"T1\".                        |\n",
    "| `exit`         | Cierra la sesión actual de la terminal o de `tmux`.                         |\n",
    "| `Control B d`  | En `tmux`, desvincula la sesión actual, dejándola corriendo en segundo plano. |\n",
    "| `tmux a`       | Se adjunta (attaches) a la última sesión de `tmux` desvinculada.          |\n",
    "| `tmux a -t T1` | Se adjunta (attaches) a la sesión de `tmux` con el nombre \"T1\".            |"
   ]
  },
  {
   "cell_type": "markdown",
   "metadata": {},
   "source": [
    "### Debbuging o Depuración  \n",
    "Que un programa compile no quiere decir que funcione correctamente.  \n",
    "Al proceso de identificación y corrección de errores (bugs) se le llama depuración o debugging.    \n",
    "La depuración lleva mucho tiempo (60% o más) por tanto es importante hacerlo de forma eficiente.  \n",
    "Hay programas que facilitan la tarea que se llaman depuradores o debuggers.  \n",
    "\n",
    "Sirven para analizar el funcionamiento del programa a lo largo de su ejecución.\n",
    "Permiten:\n",
    "- Observar como cambia el valor de las variables a lo largo del programa\n",
    "- Añadir punto de interrupción (breakpoints) donde el programa para, para que podamos analizar su estado\n",
    "- Ejecutar el programa linea por linea\n",
    "\n",
    "#### El Depurador de C/C++: GDB (Gnu DeBugger)  \n",
    "##### GDB en línea de comando\n",
    "| Acción                                      | Comando en GDB                                | Descripción                                                                                                |\n",
    "|---------------------------------------------|-----------------------------------------------|------------------------------------------------------------------------------------------------------------|\n",
    "| **Compilación (con información de depuración)** | `g++ programa.cpp -ggdb -O0 -o programa.exe` | Compila el archivo `programa.cpp` creando el ejecutable `programa.exe` con información de depuración (`-ggdb`) y sin optimizaciones (`-O0`). |\n",
    "| **Abrir GDB** | `gdb programa.exe`                            | Inicia el depurador GDB cargando el ejecutable `programa.exe`.                                             |\n",
    "| **Añadir Punto de Ruptura** | `break 9`                                     | Establece un punto de interrupción en la línea 9 del código fuente. La ejecución se detendrá aquí.          |\n",
    "| **Ejecutar Siguiente Línea (Entrando en Funciones)** | `step`                                      | Ejecuta la siguiente línea de código. Si la línea contiene una llamada a una función, GDB entrará en esa función. |\n",
    "| **Ejecutar Siguiente Línea (Sin Entrar en Funciones)** | `next`                                      | Ejecuta la siguiente línea de código. Si la línea contiene una llamada a una función, GDB la ejecutará completamente sin entrar en ella. |\n",
    "| **Mostrar Valor de Variable** | `print var`                                   | Muestra el valor actual de la variable llamada `var`. Reemplaza `var` con el nombre de la variable que quieras inspeccionar. |\n",
    "| **Comenzar Ejecución** | `start`                                       | Comienza la ejecución del programa detenido en el primer punto posible (generalmente al inicio de la función `main`). |\n",
    "| **Continuar Ejecución** | `continue`                                    | Continúa la ejecución del programa desde la línea actual hasta que se alcance el siguiente punto de interrupción o el programa finalice. |"
   ]
  },
  {
   "cell_type": "markdown",
   "metadata": {},
   "source": [
    "### Sobre Git\n",
    "- Añadir cambios al repositorio local cada vez que hemos aportado \n",
    "una modificación importante (stage changes + commit)  \n",
    "- Subir los cambios al repositorio remoto al final de cada sesión\n",
    "(stage changes + commit + push)"
   ]
  },
  {
   "cell_type": "markdown",
   "metadata": {},
   "source": [
    "* Profiling y debugging\n",
    "* slurm, tmux -mandar trabajos"
   ]
  },
  {
   "cell_type": "markdown",
   "metadata": {},
   "source": [
    "REPASO DE C/C++\n",
    "- importante saber leer y crear ficheros (input y output)\n",
    "- Interprete:\n",
    "    1. Lenguaje alto nivel\n",
    "    2. el interprete lo lee\n",
    "    3. crea ejecutable\n",
    "- Compilador:\n",
    "    1. Lenguaje alto nivel\n",
    "    2. lenguaje maquina (crea un objeto)\n",
    "    3. crea ejecutable"
   ]
  },
  {
   "cell_type": "markdown",
   "metadata": {},
   "source": [
    "## Sobre cosas informáticas\n",
    "`núcleos`:  Se refiere a los procesadores individuales dentro de una CPU.  \n",
    "`cores`: Término similar a núcleos, utilizados para la ejecución paralela.  \n",
    "`PID padre/hijo`: Relación entre procesos donde un proceso (padre) crea otros (hijos).    \n"
   ]
  },
  {
   "cell_type": "code",
   "execution_count": 16,
   "metadata": {},
   "outputs": [
    {
     "name": "stdout",
     "output_type": "stream",
     "text": [
      "Número de núcleos disponibles: 8\n"
     ]
    }
   ],
   "source": [
    "import os\n",
    "\n",
    "# Obtener el número de núcleos\n",
    "num_nucleos = os.cpu_count()\n",
    "print(f\"Número de núcleos disponibles: {num_nucleos}\")"
   ]
  },
  {
   "cell_type": "markdown",
   "metadata": {},
   "source": [
    "**Gestores de paquetes:** Cholatey y Winget. El uso de gestores de paquetes en Windows ayuda a instalar y desinstalar paquetes que usamos en programación y desarrollo. Funcionan de forma parecida  a los gestores de paquetes de Linux, o XCode y Brew de MacOS.  \n"
   ]
  },
  {
   "cell_type": "markdown",
   "metadata": {},
   "source": [
    "COSAS QUE HACER:\n",
    "- Programas que hagan operaciones con matrices\n",
    "- Programas que hagan reescalamiento.\n",
    "Estos programas se meten como funciones en el problema del tema 1 de los planetas\n",
    "- Optimizar estos programas:\n",
    "    1. En C/C++: para optimizar compilación se utiliza O1.O2.O3 y para paralelizar(hilos) se utiliza open MD\n",
    "    2. En python: para optimizar se utiliza numba y para paralelizar se utiliza parallel con numba o PyOMP."
   ]
  }
 ],
 "metadata": {
  "kernelspec": {
   "display_name": "Python 3",
   "language": "python",
   "name": "python3"
  },
  "language_info": {
   "codemirror_mode": {
    "name": "ipython",
    "version": 3
   },
   "file_extension": ".py",
   "mimetype": "text/x-python",
   "name": "python",
   "nbconvert_exporter": "python",
   "pygments_lexer": "ipython3",
   "version": "3.12.9"
  }
 },
 "nbformat": 4,
 "nbformat_minor": 2
}
